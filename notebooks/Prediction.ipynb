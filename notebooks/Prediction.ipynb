{
    "cells": [
        {
            "cell_type": "markdown",
            "metadata": {
                "azdata_cell_guid": "b5219201-b83d-4579-98d9-b3ecd9a777e8"
            },
            "source": [
                "### Load data"
            ]
        },
        {
            "cell_type": "code",
            "execution_count": 3,
            "metadata": {
                "azdata_cell_guid": "84f8d122-7754-4fda-90e7-1c781bb2393d",
                "language": "python"
            },
            "outputs": [],
            "source": [
                "import sqlite3\n",
                "import pandas as pd\n",
                "import os \n",
                "from dotenv import load_dotenv"
            ]
        },
        {
            "cell_type": "code",
            "execution_count": 7,
            "metadata": {
                "azdata_cell_guid": "e18f109e-ba0f-4c54-9ab5-83b2dd974fa1",
                "language": "python"
            },
            "outputs": [],
            "source": [
                "# Path to the database file\n",
                "load_dotenv()\n",
                "DB_PATH = os.getenv('DB_PATH2')\n",
                "\n",
                "# Connect to the database\n",
                "conn = sqlite3.connect(DB_PATH)\n",
                "cursor = conn.cursor()\n",
                "\n",
                "query = '''\n",
                "SELECT \"Home Team\", \"Away Team\", \"League\",\n",
                "\"Score\", \"Result\", \"HomePower\", \n",
                "\"AwayPower\", \"H1.5\", \"H2.5\",\n",
                "\"A1.5\", \"A2.5\", \"HomeBTTS\", \"AwayBTTS\",\n",
                "\"Home Form\", \"Away Form\", \"1\", \"2\", \"Home GD\",\n",
                "\"AwayGD\",\"Home Position\", \"Away Position\",\n",
                "ABS(\"HomePower\" - \"AwayPower\") AS \"Powerdiff\",\n",
                "\"Match Date\"\n",
                "FROM footballresults \n",
                "ORDER BY \"Match Date\" DESC'''\n",
                "\n",
                "\n",
                "# Load the query results into a DataFrame\n",
                "df = pd.read_sql_query(query, conn)\n",
                "\n",
                "# Close the connection\n",
                "conn.close()"
            ]
        },
        {
            "cell_type": "code",
            "execution_count": 8,
            "metadata": {
                "azdata_cell_guid": "1a2d77a8-4a6e-4d21-9bb6-0ca512e214a1",
                "language": "python"
            },
            "outputs": [
                {
                    "data": {
                        "application/vnd.microsoft.datawrangler.viewer.v0+json": {
                            "columns": [
                                {
                                    "name": "index",
                                    "rawType": "int64",
                                    "type": "integer"
                                },
                                {
                                    "name": "Home Team",
                                    "rawType": "object",
                                    "type": "string"
                                },
                                {
                                    "name": "Away Team",
                                    "rawType": "object",
                                    "type": "string"
                                },
                                {
                                    "name": "League",
                                    "rawType": "object",
                                    "type": "string"
                                },
                                {
                                    "name": "Score",
                                    "rawType": "object",
                                    "type": "string"
                                },
                                {
                                    "name": "Result",
                                    "rawType": "object",
                                    "type": "string"
                                },
                                {
                                    "name": "HomePower",
                                    "rawType": "float64",
                                    "type": "float"
                                },
                                {
                                    "name": "AwayPower",
                                    "rawType": "float64",
                                    "type": "float"
                                },
                                {
                                    "name": "H1.5",
                                    "rawType": "float64",
                                    "type": "float"
                                },
                                {
                                    "name": "H2.5",
                                    "rawType": "float64",
                                    "type": "float"
                                },
                                {
                                    "name": "A1.5",
                                    "rawType": "float64",
                                    "type": "float"
                                },
                                {
                                    "name": "A2.5",
                                    "rawType": "float64",
                                    "type": "float"
                                },
                                {
                                    "name": "HomeBTTS",
                                    "rawType": "float64",
                                    "type": "float"
                                },
                                {
                                    "name": "AwayBTTS",
                                    "rawType": "float64",
                                    "type": "float"
                                },
                                {
                                    "name": "Home Form",
                                    "rawType": "object",
                                    "type": "string"
                                },
                                {
                                    "name": "Away Form",
                                    "rawType": "object",
                                    "type": "string"
                                },
                                {
                                    "name": "1",
                                    "rawType": "float64",
                                    "type": "float"
                                },
                                {
                                    "name": "2",
                                    "rawType": "float64",
                                    "type": "float"
                                },
                                {
                                    "name": "Home GD",
                                    "rawType": "float64",
                                    "type": "float"
                                },
                                {
                                    "name": "\"AwayGD\"",
                                    "rawType": "object",
                                    "type": "string"
                                },
                                {
                                    "name": "Home Position",
                                    "rawType": "float64",
                                    "type": "float"
                                },
                                {
                                    "name": "Away Position",
                                    "rawType": "float64",
                                    "type": "float"
                                },
                                {
                                    "name": "Powerdiff",
                                    "rawType": "float64",
                                    "type": "float"
                                },
                                {
                                    "name": "Match Date",
                                    "rawType": "object",
                                    "type": "string"
                                }
                            ],
                            "ref": "55ed2f92-264c-43a7-9c20-3b8e679a488a",
                            "rows": [
                                [
                                    "0",
                                    "Humaitá",
                                    "Manaus FC",
                                    "Brazil Serie D",
                                    "0 - 1",
                                    "2",
                                    "48.8",
                                    "93.9",
                                    "90.0",
                                    "90.0",
                                    "80.0",
                                    "60.0",
                                    "70.0",
                                    "70.0",
                                    "WLLDL",
                                    "DWDLL",
                                    "9.1",
                                    "1.23",
                                    null,
                                    "AwayGD",
                                    null,
                                    null,
                                    "45.10000000000001",
                                    "2025-07-21 02:00:00"
                                ],
                                [
                                    "1",
                                    "LDU Quito",
                                    "Deportivo Cuenca",
                                    "Ecuador LigaPro Serie A",
                                    "0 - 0",
                                    "X",
                                    "126.3",
                                    "121.1",
                                    "100.0",
                                    "70.0",
                                    "70.0",
                                    "40.0",
                                    "70.0",
                                    "50.0",
                                    "DWWLD",
                                    "DLWWW",
                                    "1.5",
                                    "5.5",
                                    "16.0",
                                    "AwayGD",
                                    "2.0",
                                    "4.0",
                                    "5.200000000000003",
                                    "2025-07-21 02:00:00"
                                ],
                                [
                                    "2",
                                    "Flamengo",
                                    "Fluminense",
                                    "Brazil Serie A",
                                    "0 - 0",
                                    "X",
                                    "134.5",
                                    "118.8",
                                    "80.0",
                                    "40.0",
                                    "80.0",
                                    "30.0",
                                    "40.0",
                                    "30.0",
                                    "LWLDW",
                                    "LLWWD",
                                    "1.75",
                                    "5.0",
                                    "21.0",
                                    "AwayGD",
                                    "2.0",
                                    "8.0",
                                    "15.700000000000003",
                                    "2025-07-21 01:30:00"
                                ],
                                [
                                    "3",
                                    "Belgrano",
                                    "Racing Club",
                                    "Argentina Liga Profesional",
                                    "0 - 1",
                                    "2",
                                    "110.7",
                                    "131.1",
                                    "80.0",
                                    "40.0",
                                    "50.0",
                                    "40.0",
                                    "70.0",
                                    "30.0",
                                    "WWDDD",
                                    "LWWWL",
                                    "2.9",
                                    "2.5",
                                    null,
                                    "AwayGD",
                                    null,
                                    null,
                                    "20.39999999999999",
                                    "2025-07-21 01:00:00"
                                ],
                                [
                                    "4",
                                    "Guarani Asuncion",
                                    "Sportivo Trinidense",
                                    "Paraguay Division Profesional",
                                    "0 - 0",
                                    "X",
                                    "71.0",
                                    "127.9",
                                    "80.0",
                                    "70.0",
                                    "90.0",
                                    "50.0",
                                    "50.0",
                                    "80.0",
                                    "LLWLL",
                                    "WWWWW",
                                    "3.3",
                                    "2.15",
                                    "0.0",
                                    "AwayGD",
                                    "4.0",
                                    "12.0",
                                    "56.900000000000006",
                                    "2025-07-21 00:30:00"
                                ]
                            ],
                            "shape": {
                                "columns": 23,
                                "rows": 5
                            }
                        },
                        "text/html": [
                            "<div>\n",
                            "<style scoped>\n",
                            "    .dataframe tbody tr th:only-of-type {\n",
                            "        vertical-align: middle;\n",
                            "    }\n",
                            "\n",
                            "    .dataframe tbody tr th {\n",
                            "        vertical-align: top;\n",
                            "    }\n",
                            "\n",
                            "    .dataframe thead th {\n",
                            "        text-align: right;\n",
                            "    }\n",
                            "</style>\n",
                            "<table border=\"1\" class=\"dataframe\">\n",
                            "  <thead>\n",
                            "    <tr style=\"text-align: right;\">\n",
                            "      <th></th>\n",
                            "      <th>Home Team</th>\n",
                            "      <th>Away Team</th>\n",
                            "      <th>League</th>\n",
                            "      <th>Score</th>\n",
                            "      <th>Result</th>\n",
                            "      <th>HomePower</th>\n",
                            "      <th>AwayPower</th>\n",
                            "      <th>H1.5</th>\n",
                            "      <th>H2.5</th>\n",
                            "      <th>A1.5</th>\n",
                            "      <th>...</th>\n",
                            "      <th>Home Form</th>\n",
                            "      <th>Away Form</th>\n",
                            "      <th>1</th>\n",
                            "      <th>2</th>\n",
                            "      <th>Home GD</th>\n",
                            "      <th>\"AwayGD\"</th>\n",
                            "      <th>Home Position</th>\n",
                            "      <th>Away Position</th>\n",
                            "      <th>Powerdiff</th>\n",
                            "      <th>Match Date</th>\n",
                            "    </tr>\n",
                            "  </thead>\n",
                            "  <tbody>\n",
                            "    <tr>\n",
                            "      <th>0</th>\n",
                            "      <td>Humaitá</td>\n",
                            "      <td>Manaus FC</td>\n",
                            "      <td>Brazil Serie D</td>\n",
                            "      <td>0 - 1</td>\n",
                            "      <td>2</td>\n",
                            "      <td>48.8</td>\n",
                            "      <td>93.9</td>\n",
                            "      <td>90.0</td>\n",
                            "      <td>90.0</td>\n",
                            "      <td>80.0</td>\n",
                            "      <td>...</td>\n",
                            "      <td>WLLDL</td>\n",
                            "      <td>DWDLL</td>\n",
                            "      <td>9.10</td>\n",
                            "      <td>1.23</td>\n",
                            "      <td>NaN</td>\n",
                            "      <td>AwayGD</td>\n",
                            "      <td>NaN</td>\n",
                            "      <td>NaN</td>\n",
                            "      <td>45.1</td>\n",
                            "      <td>2025-07-21 02:00:00</td>\n",
                            "    </tr>\n",
                            "    <tr>\n",
                            "      <th>1</th>\n",
                            "      <td>LDU Quito</td>\n",
                            "      <td>Deportivo Cuenca</td>\n",
                            "      <td>Ecuador LigaPro Serie A</td>\n",
                            "      <td>0 - 0</td>\n",
                            "      <td>X</td>\n",
                            "      <td>126.3</td>\n",
                            "      <td>121.1</td>\n",
                            "      <td>100.0</td>\n",
                            "      <td>70.0</td>\n",
                            "      <td>70.0</td>\n",
                            "      <td>...</td>\n",
                            "      <td>DWWLD</td>\n",
                            "      <td>DLWWW</td>\n",
                            "      <td>1.50</td>\n",
                            "      <td>5.50</td>\n",
                            "      <td>16.0</td>\n",
                            "      <td>AwayGD</td>\n",
                            "      <td>2.0</td>\n",
                            "      <td>4.0</td>\n",
                            "      <td>5.2</td>\n",
                            "      <td>2025-07-21 02:00:00</td>\n",
                            "    </tr>\n",
                            "    <tr>\n",
                            "      <th>2</th>\n",
                            "      <td>Flamengo</td>\n",
                            "      <td>Fluminense</td>\n",
                            "      <td>Brazil Serie A</td>\n",
                            "      <td>0 - 0</td>\n",
                            "      <td>X</td>\n",
                            "      <td>134.5</td>\n",
                            "      <td>118.8</td>\n",
                            "      <td>80.0</td>\n",
                            "      <td>40.0</td>\n",
                            "      <td>80.0</td>\n",
                            "      <td>...</td>\n",
                            "      <td>LWLDW</td>\n",
                            "      <td>LLWWD</td>\n",
                            "      <td>1.75</td>\n",
                            "      <td>5.00</td>\n",
                            "      <td>21.0</td>\n",
                            "      <td>AwayGD</td>\n",
                            "      <td>2.0</td>\n",
                            "      <td>8.0</td>\n",
                            "      <td>15.7</td>\n",
                            "      <td>2025-07-21 01:30:00</td>\n",
                            "    </tr>\n",
                            "    <tr>\n",
                            "      <th>3</th>\n",
                            "      <td>Belgrano</td>\n",
                            "      <td>Racing Club</td>\n",
                            "      <td>Argentina Liga Profesional</td>\n",
                            "      <td>0 - 1</td>\n",
                            "      <td>2</td>\n",
                            "      <td>110.7</td>\n",
                            "      <td>131.1</td>\n",
                            "      <td>80.0</td>\n",
                            "      <td>40.0</td>\n",
                            "      <td>50.0</td>\n",
                            "      <td>...</td>\n",
                            "      <td>WWDDD</td>\n",
                            "      <td>LWWWL</td>\n",
                            "      <td>2.90</td>\n",
                            "      <td>2.50</td>\n",
                            "      <td>NaN</td>\n",
                            "      <td>AwayGD</td>\n",
                            "      <td>NaN</td>\n",
                            "      <td>NaN</td>\n",
                            "      <td>20.4</td>\n",
                            "      <td>2025-07-21 01:00:00</td>\n",
                            "    </tr>\n",
                            "    <tr>\n",
                            "      <th>4</th>\n",
                            "      <td>Guarani Asuncion</td>\n",
                            "      <td>Sportivo Trinidense</td>\n",
                            "      <td>Paraguay Division Profesional</td>\n",
                            "      <td>0 - 0</td>\n",
                            "      <td>X</td>\n",
                            "      <td>71.0</td>\n",
                            "      <td>127.9</td>\n",
                            "      <td>80.0</td>\n",
                            "      <td>70.0</td>\n",
                            "      <td>90.0</td>\n",
                            "      <td>...</td>\n",
                            "      <td>LLWLL</td>\n",
                            "      <td>WWWWW</td>\n",
                            "      <td>3.30</td>\n",
                            "      <td>2.15</td>\n",
                            "      <td>0.0</td>\n",
                            "      <td>AwayGD</td>\n",
                            "      <td>4.0</td>\n",
                            "      <td>12.0</td>\n",
                            "      <td>56.9</td>\n",
                            "      <td>2025-07-21 00:30:00</td>\n",
                            "    </tr>\n",
                            "  </tbody>\n",
                            "</table>\n",
                            "<p>5 rows × 23 columns</p>\n",
                            "</div>"
                        ],
                        "text/plain": [
                            "          Home Team            Away Team                         League  \\\n",
                            "0           Humaitá            Manaus FC                 Brazil Serie D   \n",
                            "1         LDU Quito     Deportivo Cuenca        Ecuador LigaPro Serie A   \n",
                            "2          Flamengo           Fluminense                 Brazil Serie A   \n",
                            "3          Belgrano          Racing Club     Argentina Liga Profesional   \n",
                            "4  Guarani Asuncion  Sportivo Trinidense  Paraguay Division Profesional   \n",
                            "\n",
                            "   Score Result  HomePower  AwayPower   H1.5  H2.5  A1.5  ...  Home Form  \\\n",
                            "0  0 - 1      2       48.8       93.9   90.0  90.0  80.0  ...      WLLDL   \n",
                            "1  0 - 0      X      126.3      121.1  100.0  70.0  70.0  ...      DWWLD   \n",
                            "2  0 - 0      X      134.5      118.8   80.0  40.0  80.0  ...      LWLDW   \n",
                            "3  0 - 1      2      110.7      131.1   80.0  40.0  50.0  ...      WWDDD   \n",
                            "4  0 - 0      X       71.0      127.9   80.0  70.0  90.0  ...      LLWLL   \n",
                            "\n",
                            "   Away Form     1     2 Home GD  \"AwayGD\"  Home Position  Away Position  \\\n",
                            "0      DWDLL  9.10  1.23     NaN    AwayGD            NaN            NaN   \n",
                            "1      DLWWW  1.50  5.50    16.0    AwayGD            2.0            4.0   \n",
                            "2      LLWWD  1.75  5.00    21.0    AwayGD            2.0            8.0   \n",
                            "3      LWWWL  2.90  2.50     NaN    AwayGD            NaN            NaN   \n",
                            "4      WWWWW  3.30  2.15     0.0    AwayGD            4.0           12.0   \n",
                            "\n",
                            "  Powerdiff           Match Date  \n",
                            "0      45.1  2025-07-21 02:00:00  \n",
                            "1       5.2  2025-07-21 02:00:00  \n",
                            "2      15.7  2025-07-21 01:30:00  \n",
                            "3      20.4  2025-07-21 01:00:00  \n",
                            "4      56.9  2025-07-21 00:30:00  \n",
                            "\n",
                            "[5 rows x 23 columns]"
                        ]
                    },
                    "execution_count": 8,
                    "metadata": {},
                    "output_type": "execute_result"
                }
            ],
            "source": [
                "df.head()"
            ]
        },
        {
            "cell_type": "markdown",
            "metadata": {
                "azdata_cell_guid": "cbf95dff-d832-487b-a943-588de14ba92b"
            },
            "source": [
                "### Explore the data"
            ]
        },
        {
            "cell_type": "code",
            "execution_count": 9,
            "metadata": {
                "azdata_cell_guid": "04467afb-a71b-4572-b231-a02682183c32",
                "language": "python"
            },
            "outputs": [
                {
                    "name": "stdout",
                    "output_type": "stream",
                    "text": [
                        "10038\n"
                    ]
                }
            ],
            "source": [
                "# Calculate total goals scored\n",
                "scores = df['Score'].str.split()\n",
                "all_goals = []\n",
                "for value in scores:\n",
                "    home_goal = int(value[0])\n",
                "    total_goals = int(value[0]) + int(value[-1])\n",
                "    all_goals.append(total_goals)\n",
                "df['Total Goals'] = all_goals\n",
                "print(df['Home Team'].count())"
            ]
        },
        {
            "cell_type": "code",
            "execution_count": 10,
            "metadata": {
                "azdata_cell_guid": "85fb4813-b3aa-4cc9-94e3-6f89a8518e5b",
                "language": "python"
            },
            "outputs": [
                {
                    "name": "stdout",
                    "output_type": "stream",
                    "text": [
                        "<class 'pandas.core.frame.DataFrame'>\n",
                        "RangeIndex: 10038 entries, 0 to 10037\n",
                        "Data columns (total 24 columns):\n",
                        " #   Column         Non-Null Count  Dtype  \n",
                        "---  ------         --------------  -----  \n",
                        " 0   Home Team      10038 non-null  object \n",
                        " 1   Away Team      10038 non-null  object \n",
                        " 2   League         10038 non-null  object \n",
                        " 3   Score          10038 non-null  object \n",
                        " 4   Result         10038 non-null  object \n",
                        " 5   HomePower      10038 non-null  float64\n",
                        " 6   AwayPower      10038 non-null  float64\n",
                        " 7   H1.5           10038 non-null  float64\n",
                        " 8   H2.5           10038 non-null  float64\n",
                        " 9   A1.5           10038 non-null  float64\n",
                        " 10  A2.5           10038 non-null  float64\n",
                        " 11  HomeBTTS       10038 non-null  float64\n",
                        " 12  AwayBTTS       10038 non-null  float64\n",
                        " 13  Home Form      10038 non-null  object \n",
                        " 14  Away Form      10038 non-null  object \n",
                        " 15  1              10038 non-null  float64\n",
                        " 16  2              10038 non-null  float64\n",
                        " 17  Home GD        7755 non-null   float64\n",
                        " 18  \"AwayGD\"       10038 non-null  object \n",
                        " 19  Home Position  7755 non-null   float64\n",
                        " 20  Away Position  7763 non-null   float64\n",
                        " 21  Powerdiff      10038 non-null  float64\n",
                        " 22  Match Date     10038 non-null  object \n",
                        " 23  Total Goals    10038 non-null  int64  \n",
                        "dtypes: float64(14), int64(1), object(9)\n",
                        "memory usage: 1.8+ MB\n"
                    ]
                }
            ],
            "source": [
                "df.info()"
            ]
        },
        {
            "cell_type": "code",
            "execution_count": 6,
            "metadata": {
                "azdata_cell_guid": "6a79a8df-c626-47ff-a3fa-021c05532554",
                "language": "python"
            },
            "outputs": [
                {
                    "data": {
                        "text/html": [
                            "<div>\n",
                            "<style scoped>\n",
                            "    .dataframe tbody tr th:only-of-type {\n",
                            "        vertical-align: middle;\n",
                            "    }\n",
                            "\n",
                            "    .dataframe tbody tr th {\n",
                            "        vertical-align: top;\n",
                            "    }\n",
                            "\n",
                            "    .dataframe thead th {\n",
                            "        text-align: right;\n",
                            "    }\n",
                            "</style>\n",
                            "<table border=\"1\" class=\"dataframe\">\n",
                            "  <thead>\n",
                            "    <tr style=\"text-align: right;\">\n",
                            "      <th></th>\n",
                            "      <th>HomePower</th>\n",
                            "      <th>AwayPower</th>\n",
                            "      <th>H1.5</th>\n",
                            "      <th>H2.5</th>\n",
                            "      <th>A1.5</th>\n",
                            "      <th>A2.5</th>\n",
                            "      <th>HomeBTTS</th>\n",
                            "      <th>AwayBTTS</th>\n",
                            "      <th>1</th>\n",
                            "      <th>2</th>\n",
                            "      <th>Home GD</th>\n",
                            "      <th>Home Position</th>\n",
                            "      <th>Away Position</th>\n",
                            "      <th>Powerdiff</th>\n",
                            "      <th>Total Goals</th>\n",
                            "    </tr>\n",
                            "  </thead>\n",
                            "  <tbody>\n",
                            "    <tr>\n",
                            "      <th>count</th>\n",
                            "      <td>8972.000000</td>\n",
                            "      <td>8972.000000</td>\n",
                            "      <td>8972.000000</td>\n",
                            "      <td>8972.000000</td>\n",
                            "      <td>8972.000000</td>\n",
                            "      <td>8972.000000</td>\n",
                            "      <td>8972.000000</td>\n",
                            "      <td>8972.000000</td>\n",
                            "      <td>8972.000000</td>\n",
                            "      <td>8972.000000</td>\n",
                            "      <td>7033.000000</td>\n",
                            "      <td>7033.000000</td>\n",
                            "      <td>7042.000000</td>\n",
                            "      <td>8972.000000</td>\n",
                            "      <td>8972.000000</td>\n",
                            "    </tr>\n",
                            "    <tr>\n",
                            "      <th>mean</th>\n",
                            "      <td>102.227207</td>\n",
                            "      <td>100.303021</td>\n",
                            "      <td>74.546701</td>\n",
                            "      <td>51.627396</td>\n",
                            "      <td>74.449064</td>\n",
                            "      <td>51.682902</td>\n",
                            "      <td>51.328801</td>\n",
                            "      <td>51.583705</td>\n",
                            "      <td>2.789932</td>\n",
                            "      <td>4.386784</td>\n",
                            "      <td>1.074790</td>\n",
                            "      <td>8.997725</td>\n",
                            "      <td>9.139023</td>\n",
                            "      <td>30.500111</td>\n",
                            "      <td>2.766384</td>\n",
                            "    </tr>\n",
                            "    <tr>\n",
                            "      <th>std</th>\n",
                            "      <td>24.344379</td>\n",
                            "      <td>24.167263</td>\n",
                            "      <td>15.694197</td>\n",
                            "      <td>18.535867</td>\n",
                            "      <td>15.812367</td>\n",
                            "      <td>18.728525</td>\n",
                            "      <td>17.302492</td>\n",
                            "      <td>17.209263</td>\n",
                            "      <td>2.813103</td>\n",
                            "      <td>3.971321</td>\n",
                            "      <td>13.561507</td>\n",
                            "      <td>6.197613</td>\n",
                            "      <td>6.233615</td>\n",
                            "      <td>21.580476</td>\n",
                            "      <td>1.721831</td>\n",
                            "    </tr>\n",
                            "    <tr>\n",
                            "      <th>min</th>\n",
                            "      <td>0.900000</td>\n",
                            "      <td>10.700000</td>\n",
                            "      <td>10.000000</td>\n",
                            "      <td>0.000000</td>\n",
                            "      <td>10.000000</td>\n",
                            "      <td>0.000000</td>\n",
                            "      <td>0.000000</td>\n",
                            "      <td>0.000000</td>\n",
                            "      <td>1.000000</td>\n",
                            "      <td>1.010000</td>\n",
                            "      <td>-64.000000</td>\n",
                            "      <td>1.000000</td>\n",
                            "      <td>1.000000</td>\n",
                            "      <td>0.000000</td>\n",
                            "      <td>0.000000</td>\n",
                            "    </tr>\n",
                            "    <tr>\n",
                            "      <th>25%</th>\n",
                            "      <td>85.600000</td>\n",
                            "      <td>83.000000</td>\n",
                            "      <td>60.000000</td>\n",
                            "      <td>40.000000</td>\n",
                            "      <td>60.000000</td>\n",
                            "      <td>40.000000</td>\n",
                            "      <td>40.000000</td>\n",
                            "      <td>40.000000</td>\n",
                            "      <td>1.670000</td>\n",
                            "      <td>2.350000</td>\n",
                            "      <td>-5.000000</td>\n",
                            "      <td>4.000000</td>\n",
                            "      <td>4.000000</td>\n",
                            "      <td>13.275000</td>\n",
                            "      <td>1.000000</td>\n",
                            "    </tr>\n",
                            "    <tr>\n",
                            "      <th>50%</th>\n",
                            "      <td>103.000000</td>\n",
                            "      <td>101.100000</td>\n",
                            "      <td>80.000000</td>\n",
                            "      <td>50.000000</td>\n",
                            "      <td>80.000000</td>\n",
                            "      <td>50.000000</td>\n",
                            "      <td>50.000000</td>\n",
                            "      <td>50.000000</td>\n",
                            "      <td>2.150000</td>\n",
                            "      <td>3.300000</td>\n",
                            "      <td>1.000000</td>\n",
                            "      <td>8.000000</td>\n",
                            "      <td>8.000000</td>\n",
                            "      <td>26.700000</td>\n",
                            "      <td>3.000000</td>\n",
                            "    </tr>\n",
                            "    <tr>\n",
                            "      <th>75%</th>\n",
                            "      <td>118.400000</td>\n",
                            "      <td>116.300000</td>\n",
                            "      <td>90.000000</td>\n",
                            "      <td>60.000000</td>\n",
                            "      <td>90.000000</td>\n",
                            "      <td>70.000000</td>\n",
                            "      <td>60.000000</td>\n",
                            "      <td>60.000000</td>\n",
                            "      <td>2.900000</td>\n",
                            "      <td>4.900000</td>\n",
                            "      <td>7.000000</td>\n",
                            "      <td>13.000000</td>\n",
                            "      <td>13.000000</td>\n",
                            "      <td>43.700000</td>\n",
                            "      <td>4.000000</td>\n",
                            "    </tr>\n",
                            "    <tr>\n",
                            "      <th>max</th>\n",
                            "      <td>174.600000</td>\n",
                            "      <td>181.400000</td>\n",
                            "      <td>100.000000</td>\n",
                            "      <td>100.000000</td>\n",
                            "      <td>100.000000</td>\n",
                            "      <td>100.000000</td>\n",
                            "      <td>100.000000</td>\n",
                            "      <td>100.000000</td>\n",
                            "      <td>67.000000</td>\n",
                            "      <td>67.000000</td>\n",
                            "      <td>76.000000</td>\n",
                            "      <td>36.000000</td>\n",
                            "      <td>36.000000</td>\n",
                            "      <td>139.100000</td>\n",
                            "      <td>11.000000</td>\n",
                            "    </tr>\n",
                            "  </tbody>\n",
                            "</table>\n",
                            "</div>"
                        ],
                        "text/plain": [
                            "         HomePower    AwayPower         H1.5         H2.5         A1.5  \\\n",
                            "count  8972.000000  8972.000000  8972.000000  8972.000000  8972.000000   \n",
                            "mean    102.227207   100.303021    74.546701    51.627396    74.449064   \n",
                            "std      24.344379    24.167263    15.694197    18.535867    15.812367   \n",
                            "min       0.900000    10.700000    10.000000     0.000000    10.000000   \n",
                            "25%      85.600000    83.000000    60.000000    40.000000    60.000000   \n",
                            "50%     103.000000   101.100000    80.000000    50.000000    80.000000   \n",
                            "75%     118.400000   116.300000    90.000000    60.000000    90.000000   \n",
                            "max     174.600000   181.400000   100.000000   100.000000   100.000000   \n",
                            "\n",
                            "              A2.5     HomeBTTS     AwayBTTS            1            2  \\\n",
                            "count  8972.000000  8972.000000  8972.000000  8972.000000  8972.000000   \n",
                            "mean     51.682902    51.328801    51.583705     2.789932     4.386784   \n",
                            "std      18.728525    17.302492    17.209263     2.813103     3.971321   \n",
                            "min       0.000000     0.000000     0.000000     1.000000     1.010000   \n",
                            "25%      40.000000    40.000000    40.000000     1.670000     2.350000   \n",
                            "50%      50.000000    50.000000    50.000000     2.150000     3.300000   \n",
                            "75%      70.000000    60.000000    60.000000     2.900000     4.900000   \n",
                            "max     100.000000   100.000000   100.000000    67.000000    67.000000   \n",
                            "\n",
                            "           Home GD  Home Position  Away Position    Powerdiff  Total Goals  \n",
                            "count  7033.000000    7033.000000    7042.000000  8972.000000  8972.000000  \n",
                            "mean      1.074790       8.997725       9.139023    30.500111     2.766384  \n",
                            "std      13.561507       6.197613       6.233615    21.580476     1.721831  \n",
                            "min     -64.000000       1.000000       1.000000     0.000000     0.000000  \n",
                            "25%      -5.000000       4.000000       4.000000    13.275000     1.000000  \n",
                            "50%       1.000000       8.000000       8.000000    26.700000     3.000000  \n",
                            "75%       7.000000      13.000000      13.000000    43.700000     4.000000  \n",
                            "max      76.000000      36.000000      36.000000   139.100000    11.000000  "
                        ]
                    },
                    "execution_count": 6,
                    "metadata": {},
                    "output_type": "execute_result"
                }
            ],
            "source": [
                "df.describe()"
            ]
        },
        {
            "cell_type": "markdown",
            "metadata": {
                "azdata_cell_guid": "7fc362dd-5906-42a4-a753-913a40f97db7"
            },
            "source": [
                "### Predictions"
            ]
        },
        {
            "cell_type": "code",
            "execution_count": 36,
            "metadata": {
                "azdata_cell_guid": "adc4ddee-5081-4f4b-b352-ba972f6f31c9",
                "language": "python"
            },
            "outputs": [
                {
                    "name": "stdout",
                    "output_type": "stream",
                    "text": [
                        "100% accurate model with 703 teams & 0 outliers\n"
                    ]
                }
            ],
            "source": [
                "# Over 1.5 goals\n",
                "tdf = df[ ((df['H1.5'] > 90) & (df['H2.5'] >= 60) & (df['A2.5'] >= 60) & (df['Powerdiff'] >= 20))\n",
                "         | ((df['A1.5'] > 90) & (df['Powerdiff'] >= 20) & (df['A2.5'] >= 60)) ].copy()\n",
                "\n",
                "tts = tdf[(tdf['Total Goals'] >= 2)].copy()\n",
                "out =  tdf[(tdf['Total Goals'] < 2)].copy()\n",
                "\n",
                "orig = tdf['Result'].count()\n",
                "pred = tts['Result'].count()\n",
                "\n",
                "outliers = orig - pred\n",
                "accuracy = (pred/orig) * 100\n",
                "\n",
                "print(f'{int(accuracy)}% accurate model with {pred} teams & {outliers} outliers')"
            ]
        },
        {
            "cell_type": "code",
            "execution_count": 37,
            "metadata": {},
            "outputs": [
                {
                    "data": {
                        "application/vnd.microsoft.datawrangler.viewer.v0+json": {
                            "columns": [
                                {
                                    "name": "index",
                                    "rawType": "int64",
                                    "type": "integer"
                                },
                                {
                                    "name": "Home Team",
                                    "rawType": "object",
                                    "type": "string"
                                },
                                {
                                    "name": "Away Team",
                                    "rawType": "object",
                                    "type": "string"
                                },
                                {
                                    "name": "League",
                                    "rawType": "object",
                                    "type": "string"
                                },
                                {
                                    "name": "Score",
                                    "rawType": "object",
                                    "type": "string"
                                },
                                {
                                    "name": "Result",
                                    "rawType": "object",
                                    "type": "string"
                                },
                                {
                                    "name": "HomePower",
                                    "rawType": "float64",
                                    "type": "float"
                                },
                                {
                                    "name": "AwayPower",
                                    "rawType": "float64",
                                    "type": "float"
                                },
                                {
                                    "name": "H1.5",
                                    "rawType": "float64",
                                    "type": "float"
                                },
                                {
                                    "name": "H2.5",
                                    "rawType": "float64",
                                    "type": "float"
                                },
                                {
                                    "name": "A1.5",
                                    "rawType": "float64",
                                    "type": "float"
                                },
                                {
                                    "name": "A2.5",
                                    "rawType": "float64",
                                    "type": "float"
                                },
                                {
                                    "name": "HomeBTTS",
                                    "rawType": "float64",
                                    "type": "float"
                                },
                                {
                                    "name": "AwayBTTS",
                                    "rawType": "float64",
                                    "type": "float"
                                },
                                {
                                    "name": "Home Form",
                                    "rawType": "object",
                                    "type": "string"
                                },
                                {
                                    "name": "Away Form",
                                    "rawType": "object",
                                    "type": "string"
                                },
                                {
                                    "name": "1",
                                    "rawType": "float64",
                                    "type": "float"
                                },
                                {
                                    "name": "2",
                                    "rawType": "float64",
                                    "type": "float"
                                },
                                {
                                    "name": "Home GD",
                                    "rawType": "float64",
                                    "type": "float"
                                },
                                {
                                    "name": "\"AwayGD\"",
                                    "rawType": "object",
                                    "type": "string"
                                },
                                {
                                    "name": "Home Position",
                                    "rawType": "float64",
                                    "type": "float"
                                },
                                {
                                    "name": "Away Position",
                                    "rawType": "float64",
                                    "type": "float"
                                },
                                {
                                    "name": "Powerdiff",
                                    "rawType": "float64",
                                    "type": "float"
                                },
                                {
                                    "name": "Match Date",
                                    "rawType": "object",
                                    "type": "string"
                                },
                                {
                                    "name": "Total Goals",
                                    "rawType": "int64",
                                    "type": "integer"
                                }
                            ],
                            "ref": "05ab6ea2-35e7-441d-a4aa-be99755f2a4f",
                            "rows": [],
                            "shape": {
                                "columns": 24,
                                "rows": 0
                            }
                        },
                        "text/html": [
                            "<div>\n",
                            "<style scoped>\n",
                            "    .dataframe tbody tr th:only-of-type {\n",
                            "        vertical-align: middle;\n",
                            "    }\n",
                            "\n",
                            "    .dataframe tbody tr th {\n",
                            "        vertical-align: top;\n",
                            "    }\n",
                            "\n",
                            "    .dataframe thead th {\n",
                            "        text-align: right;\n",
                            "    }\n",
                            "</style>\n",
                            "<table border=\"1\" class=\"dataframe\">\n",
                            "  <thead>\n",
                            "    <tr style=\"text-align: right;\">\n",
                            "      <th></th>\n",
                            "      <th>Home Team</th>\n",
                            "      <th>Away Team</th>\n",
                            "      <th>League</th>\n",
                            "      <th>Score</th>\n",
                            "      <th>Result</th>\n",
                            "      <th>HomePower</th>\n",
                            "      <th>AwayPower</th>\n",
                            "      <th>H1.5</th>\n",
                            "      <th>H2.5</th>\n",
                            "      <th>A1.5</th>\n",
                            "      <th>...</th>\n",
                            "      <th>Away Form</th>\n",
                            "      <th>1</th>\n",
                            "      <th>2</th>\n",
                            "      <th>Home GD</th>\n",
                            "      <th>\"AwayGD\"</th>\n",
                            "      <th>Home Position</th>\n",
                            "      <th>Away Position</th>\n",
                            "      <th>Powerdiff</th>\n",
                            "      <th>Match Date</th>\n",
                            "      <th>Total Goals</th>\n",
                            "    </tr>\n",
                            "  </thead>\n",
                            "  <tbody>\n",
                            "  </tbody>\n",
                            "</table>\n",
                            "<p>0 rows × 24 columns</p>\n",
                            "</div>"
                        ],
                        "text/plain": [
                            "Empty DataFrame\n",
                            "Columns: [Home Team, Away Team, League, Score, Result, HomePower, AwayPower, H1.5, H2.5, A1.5, A2.5, HomeBTTS, AwayBTTS, Home Form, Away Form, 1, 2, Home GD, \"AwayGD\", Home Position, Away Position, Powerdiff, Match Date, Total Goals]\n",
                            "Index: []\n",
                            "\n",
                            "[0 rows x 24 columns]"
                        ]
                    },
                    "execution_count": 37,
                    "metadata": {},
                    "output_type": "execute_result"
                }
            ],
            "source": [
                "out"
            ]
        },
        {
            "cell_type": "code",
            "execution_count": 8,
            "metadata": {
                "azdata_cell_guid": "c121e5b5-6f93-4eb3-b010-54390308afc0",
                "language": "python"
            },
            "outputs": [
                {
                    "name": "stdout",
                    "output_type": "stream",
                    "text": [
                        "100% accurate model with 63 teams\n"
                    ]
                }
            ],
            "source": [
                "# Home prediction based on top 3 teams\n",
                "pos_home = df[ (df['Powerdiff'] > 50)\n",
                "             & (df['Home Form'].str.count('W') > 4)\n",
                "             & (df['Home Position'] <= 3) ].copy()\n",
                " \n",
                "# Calculate accuracy \n",
                "h_ct = pos_home['Home Team'].count()\n",
                "h_win = pos_home[(pos_home['Result'] == '1')].copy()\n",
                "p_ct = h_win['Home Team'].count()\n",
                "model_acc = (p_ct/h_ct) * 100\n",
                "print(f'{int(model_acc)}% accurate model with {h_ct} teams')"
            ]
        },
        {
            "cell_type": "code",
            "execution_count": 9,
            "metadata": {
                "azdata_cell_guid": "7438ca52-5431-45ad-88ef-d3375adfb865",
                "language": "python"
            },
            "outputs": [
                {
                    "data": {
                        "text/html": [
                            "<div>\n",
                            "<style scoped>\n",
                            "    .dataframe tbody tr th:only-of-type {\n",
                            "        vertical-align: middle;\n",
                            "    }\n",
                            "\n",
                            "    .dataframe tbody tr th {\n",
                            "        vertical-align: top;\n",
                            "    }\n",
                            "\n",
                            "    .dataframe thead th {\n",
                            "        text-align: right;\n",
                            "    }\n",
                            "</style>\n",
                            "<table border=\"1\" class=\"dataframe\">\n",
                            "  <thead>\n",
                            "    <tr style=\"text-align: right;\">\n",
                            "      <th></th>\n",
                            "      <th>Home Team</th>\n",
                            "      <th>Away Team</th>\n",
                            "      <th>League</th>\n",
                            "      <th>Score</th>\n",
                            "      <th>Result</th>\n",
                            "      <th>HomePower</th>\n",
                            "      <th>AwayPower</th>\n",
                            "      <th>H1.5</th>\n",
                            "      <th>H2.5</th>\n",
                            "      <th>A1.5</th>\n",
                            "      <th>...</th>\n",
                            "      <th>Away Form</th>\n",
                            "      <th>1</th>\n",
                            "      <th>2</th>\n",
                            "      <th>Home GD</th>\n",
                            "      <th>\"AwayGD\"</th>\n",
                            "      <th>Home Position</th>\n",
                            "      <th>Away Position</th>\n",
                            "      <th>Powerdiff</th>\n",
                            "      <th>Match Date</th>\n",
                            "      <th>Total Goals</th>\n",
                            "    </tr>\n",
                            "  </thead>\n",
                            "  <tbody>\n",
                            "  </tbody>\n",
                            "</table>\n",
                            "<p>0 rows × 24 columns</p>\n",
                            "</div>"
                        ],
                        "text/plain": [
                            "Empty DataFrame\n",
                            "Columns: [Home Team, Away Team, League, Score, Result, HomePower, AwayPower, H1.5, H2.5, A1.5, A2.5, HomeBTTS, AwayBTTS, Home Form, Away Form, 1, 2, Home GD, \"AwayGD\", Home Position, Away Position, Powerdiff, Match Date, Total Goals]\n",
                            "Index: []\n",
                            "\n",
                            "[0 rows x 24 columns]"
                        ]
                    },
                    "execution_count": 9,
                    "metadata": {},
                    "output_type": "execute_result"
                }
            ],
            "source": [
                "anom = pos_home[(pos_home['Result'] != '1')].copy()\n",
                "anom "
            ]
        }
    ],
    "metadata": {
        "kernelspec": {
            "display_name": "venv",
            "language": "python",
            "name": "python3"
        },
        "language_info": {
            "codemirror_mode": {
                "name": "ipython",
                "version": 3
            },
            "file_extension": ".py",
            "mimetype": "text/x-python",
            "name": "python",
            "nbconvert_exporter": "python",
            "pygments_lexer": "ipython3",
            "version": "3.13.0"
        }
    },
    "nbformat": 4,
    "nbformat_minor": 2
}
