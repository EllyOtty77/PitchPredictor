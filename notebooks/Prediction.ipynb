{
    "metadata": {
        "kernelspec": {
            "display_name": "Python 3",
            "language": "python",
            "name": "python3"
        },
        "language_info": {
            "codemirror_mode": {
                "name": "ipython",
                "version": 3
            },
            "file_extension": ".py",
            "mimetype": "text/x-python",
            "name": "python",
            "nbconvert_exporter": "python",
            "pygments_lexer": "ipython3",
            "version": "3.13.0"
        }
    },
    "nbformat_minor": 2,
    "nbformat": 4,
    "cells": [
        {
            "cell_type": "markdown",
            "source": [
                "### Load data"
            ],
            "metadata": {
                "azdata_cell_guid": "b5219201-b83d-4579-98d9-b3ecd9a777e8"
            }
        },
        {
            "cell_type": "code",
            "source": [
                "import sqlite3\n",
                "import pandas as pd\n",
                "import os \n",
                "from dotenv import load_dotenv"
            ],
            "metadata": {
                "azdata_cell_guid": "84f8d122-7754-4fda-90e7-1c781bb2393d",
                "language": "python"
            },
            "outputs": [],
            "execution_count": 1
        },
        {
            "cell_type": "code",
            "source": [
                "# Path to the database file\n",
                "load_dotenv()\n",
                "DB_PATH = os.getenv('DB_PATH')\n",
                "\n",
                "# Connect to the database\n",
                "conn = sqlite3.connect(DB_PATH)\n",
                "cursor = conn.cursor()\n",
                "\n",
                "query = '''\n",
                "SELECT \"Home Team\", \"Away Team\", \"League\",\n",
                "\"Score\", \"Result\", \"HomePower\", \n",
                "\"AwayPower\", \"H1.5\", \"H2.5\",\n",
                "\"A1.5\", \"A2.5\", \"HomeBTTS\", \"AwayBTTS\",\n",
                "\"Home Form\", \"Away Form\", \"1\", \"2\", \"Home GD\",\n",
                "\"AwayGD\",\"Home Position\", \"Away Position\",\n",
                "ABS(\"HomePower\" - \"AwayPower\") AS \"Powerdiff\",\n",
                "\"Match Date\"\n",
                "FROM footballresults \n",
                "ORDER BY \"Match Date\" DESC'''\n",
                "\n",
                "\n",
                "# Load the query results into a DataFrame\n",
                "df = pd.read_sql_query(query, conn)\n",
                "\n",
                "# Close the connection\n",
                "conn.close()"
            ],
            "metadata": {
                "azdata_cell_guid": "e18f109e-ba0f-4c54-9ab5-83b2dd974fa1",
                "language": "python"
            },
            "outputs": [],
            "execution_count": 2
        },
        {
            "cell_type": "code",
            "source": [
                "df.head()"
            ],
            "metadata": {
                "azdata_cell_guid": "1a2d77a8-4a6e-4d21-9bb6-0ca512e214a1",
                "language": "python"
            },
            "outputs": [
                {
                    "output_type": "execute_result",
                    "execution_count": 4,
                    "data": {
                        "text/html": "<div>\n<style scoped>\n    .dataframe tbody tr th:only-of-type {\n        vertical-align: middle;\n    }\n\n    .dataframe tbody tr th {\n        vertical-align: top;\n    }\n\n    .dataframe thead th {\n        text-align: right;\n    }\n</style>\n<table border=\"1\" class=\"dataframe\">\n  <thead>\n    <tr style=\"text-align: right;\">\n      <th></th>\n      <th>Home Team</th>\n      <th>Away Team</th>\n      <th>League</th>\n      <th>Score</th>\n      <th>Result</th>\n      <th>HomePower</th>\n      <th>AwayPower</th>\n      <th>H1.5</th>\n      <th>H2.5</th>\n      <th>A1.5</th>\n      <th>...</th>\n      <th>Away Form</th>\n      <th>1</th>\n      <th>2</th>\n      <th>Home GD</th>\n      <th>\"AwayGD\"</th>\n      <th>Home Position</th>\n      <th>Away Position</th>\n      <th>Powerdiff</th>\n      <th>Match Date</th>\n      <th>Total Goals</th>\n    </tr>\n  </thead>\n  <tbody>\n    <tr>\n      <th>0</th>\n      <td>CA Colegiales</td>\n      <td>All Boys</td>\n      <td>Argentina Nacional B</td>\n      <td>2 - 1</td>\n      <td>1</td>\n      <td>94.9</td>\n      <td>84.3</td>\n      <td>40.0</td>\n      <td>30.0</td>\n      <td>80.0</td>\n      <td>...</td>\n      <td>LWDDL</td>\n      <td>2.60</td>\n      <td>3.00</td>\n      <td>NaN</td>\n      <td>AwayGD</td>\n      <td>NaN</td>\n      <td>NaN</td>\n      <td>10.6</td>\n      <td>2025-06-22 01:10:00</td>\n      <td>3</td>\n    </tr>\n    <tr>\n      <th>1</th>\n      <td>Fluminense</td>\n      <td>Ulsan Hyundai</td>\n      <td>FIFA Club World Cup</td>\n      <td>4 - 2</td>\n      <td>1</td>\n      <td>125.5</td>\n      <td>100.6</td>\n      <td>80.0</td>\n      <td>40.0</td>\n      <td>90.0</td>\n      <td>...</td>\n      <td>LLLDW</td>\n      <td>1.30</td>\n      <td>9.50</td>\n      <td>NaN</td>\n      <td>AwayGD</td>\n      <td>NaN</td>\n      <td>NaN</td>\n      <td>24.9</td>\n      <td>2025-06-22 01:00:00</td>\n      <td>6</td>\n    </tr>\n    <tr>\n      <th>2</th>\n      <td>Remo</td>\n      <td>Paysandu</td>\n      <td>Brazil Serie B</td>\n      <td>0 - 1</td>\n      <td>2</td>\n      <td>95.9</td>\n      <td>80.3</td>\n      <td>70.0</td>\n      <td>30.0</td>\n      <td>40.0</td>\n      <td>...</td>\n      <td>WWLLL</td>\n      <td>2.05</td>\n      <td>3.60</td>\n      <td>3.0</td>\n      <td>AwayGD</td>\n      <td>8.0</td>\n      <td>18.0</td>\n      <td>15.6</td>\n      <td>2025-06-22 00:30:00</td>\n      <td>1</td>\n    </tr>\n    <tr>\n      <th>3</th>\n      <td>Quilmes</td>\n      <td>Deportivo Maipu</td>\n      <td>Argentina Nacional B</td>\n      <td>2 - 2</td>\n      <td>X</td>\n      <td>73.4</td>\n      <td>94.5</td>\n      <td>60.0</td>\n      <td>40.0</td>\n      <td>60.0</td>\n      <td>...</td>\n      <td>DDLWD</td>\n      <td>1.91</td>\n      <td>4.75</td>\n      <td>NaN</td>\n      <td>AwayGD</td>\n      <td>NaN</td>\n      <td>NaN</td>\n      <td>21.1</td>\n      <td>2025-06-21 23:10:00</td>\n      <td>4</td>\n    </tr>\n    <tr>\n      <th>4</th>\n      <td>CA Chaco For Ever</td>\n      <td>Defensores Unidos</td>\n      <td>Argentina Nacional B</td>\n      <td>2 - 0</td>\n      <td>1</td>\n      <td>116.9</td>\n      <td>44.0</td>\n      <td>70.0</td>\n      <td>50.0</td>\n      <td>60.0</td>\n      <td>...</td>\n      <td>LLLLL</td>\n      <td>1.38</td>\n      <td>10.00</td>\n      <td>6.0</td>\n      <td>AwayGD</td>\n      <td>5.0</td>\n      <td>17.0</td>\n      <td>72.9</td>\n      <td>2025-06-21 22:30:00</td>\n      <td>2</td>\n    </tr>\n  </tbody>\n</table>\n<p>5 rows × 24 columns</p>\n</div>",
                        "text/plain": "           Home Team          Away Team                League  Score Result  \\\n0      CA Colegiales           All Boys  Argentina Nacional B  2 - 1      1   \n1         Fluminense      Ulsan Hyundai   FIFA Club World Cup  4 - 2      1   \n2               Remo           Paysandu        Brazil Serie B  0 - 1      2   \n3            Quilmes    Deportivo Maipu  Argentina Nacional B  2 - 2      X   \n4  CA Chaco For Ever  Defensores Unidos  Argentina Nacional B  2 - 0      1   \n\n   HomePower  AwayPower  H1.5  H2.5  A1.5  ...  Away Form     1      2  \\\n0       94.9       84.3  40.0  30.0  80.0  ...      LWDDL  2.60   3.00   \n1      125.5      100.6  80.0  40.0  90.0  ...      LLLDW  1.30   9.50   \n2       95.9       80.3  70.0  30.0  40.0  ...      WWLLL  2.05   3.60   \n3       73.4       94.5  60.0  40.0  60.0  ...      DDLWD  1.91   4.75   \n4      116.9       44.0  70.0  50.0  60.0  ...      LLLLL  1.38  10.00   \n\n  Home GD \"AwayGD\"  Home Position  Away Position  Powerdiff  \\\n0     NaN   AwayGD            NaN            NaN       10.6   \n1     NaN   AwayGD            NaN            NaN       24.9   \n2     3.0   AwayGD            8.0           18.0       15.6   \n3     NaN   AwayGD            NaN            NaN       21.1   \n4     6.0   AwayGD            5.0           17.0       72.9   \n\n            Match Date  Total Goals  \n0  2025-06-22 01:10:00            3  \n1  2025-06-22 01:00:00            6  \n2  2025-06-22 00:30:00            1  \n3  2025-06-21 23:10:00            4  \n4  2025-06-21 22:30:00            2  \n\n[5 rows x 24 columns]"
                    },
                    "metadata": {}
                }
            ],
            "execution_count": 4
        },
        {
            "cell_type": "markdown",
            "source": [
                "### Explore the data"
            ],
            "metadata": {
                "azdata_cell_guid": "cbf95dff-d832-487b-a943-588de14ba92b"
            }
        },
        {
            "cell_type": "code",
            "source": [
                "# Calculate total goals scored\n",
                "scores = df['Score'].str.split()\n",
                "all_goals = []\n",
                "for value in scores:\n",
                "    home_goal = int(value[0])\n",
                "    total_goals = int(value[0]) + int(value[-1])\n",
                "    all_goals.append(total_goals)\n",
                "df['Total Goals'] = all_goals\n",
                "print(df['Home Team'].count())"
            ],
            "metadata": {
                "azdata_cell_guid": "04467afb-a71b-4572-b231-a02682183c32",
                "language": "python"
            },
            "outputs": [
                {
                    "output_type": "stream",
                    "name": "stdout",
                    "text": "8972\n"
                }
            ],
            "execution_count": 3
        },
        {
            "cell_type": "code",
            "source": [
                "df.info()"
            ],
            "metadata": {
                "azdata_cell_guid": "85fb4813-b3aa-4cc9-94e3-6f89a8518e5b",
                "language": "python"
            },
            "outputs": [
                {
                    "output_type": "stream",
                    "name": "stdout",
                    "text": "<class 'pandas.core.frame.DataFrame'>\nRangeIndex: 8972 entries, 0 to 8971\nData columns (total 24 columns):\n #   Column         Non-Null Count  Dtype  \n---  ------         --------------  -----  \n 0   Home Team      8972 non-null   object \n 1   Away Team      8972 non-null   object \n 2   League         8972 non-null   object \n 3   Score          8972 non-null   object \n 4   Result         8972 non-null   object \n 5   HomePower      8972 non-null   float64\n 6   AwayPower      8972 non-null   float64\n 7   H1.5           8972 non-null   float64\n 8   H2.5           8972 non-null   float64\n 9   A1.5           8972 non-null   float64\n 10  A2.5           8972 non-null   float64\n 11  HomeBTTS       8972 non-null   float64\n 12  AwayBTTS       8972 non-null   float64\n 13  Home Form      8972 non-null   object \n 14  Away Form      8972 non-null   object \n 15  1              8972 non-null   float64\n 16  2              8972 non-null   float64\n 17  Home GD        7033 non-null   float64\n 18  \"AwayGD\"       8972 non-null   object \n 19  Home Position  7033 non-null   float64\n 20  Away Position  7042 non-null   float64\n 21  Powerdiff      8972 non-null   float64\n 22  Match Date     8972 non-null   object \n 23  Total Goals    8972 non-null   int64  \ndtypes: float64(14), int64(1), object(9)\nmemory usage: 1.6+ MB\n"
                }
            ],
            "execution_count": 5
        },
        {
            "cell_type": "code",
            "source": [
                "df.describe()"
            ],
            "metadata": {
                "azdata_cell_guid": "6a79a8df-c626-47ff-a3fa-021c05532554",
                "language": "python"
            },
            "outputs": [
                {
                    "output_type": "execute_result",
                    "execution_count": 6,
                    "data": {
                        "text/html": "<div>\n<style scoped>\n    .dataframe tbody tr th:only-of-type {\n        vertical-align: middle;\n    }\n\n    .dataframe tbody tr th {\n        vertical-align: top;\n    }\n\n    .dataframe thead th {\n        text-align: right;\n    }\n</style>\n<table border=\"1\" class=\"dataframe\">\n  <thead>\n    <tr style=\"text-align: right;\">\n      <th></th>\n      <th>HomePower</th>\n      <th>AwayPower</th>\n      <th>H1.5</th>\n      <th>H2.5</th>\n      <th>A1.5</th>\n      <th>A2.5</th>\n      <th>HomeBTTS</th>\n      <th>AwayBTTS</th>\n      <th>1</th>\n      <th>2</th>\n      <th>Home GD</th>\n      <th>Home Position</th>\n      <th>Away Position</th>\n      <th>Powerdiff</th>\n      <th>Total Goals</th>\n    </tr>\n  </thead>\n  <tbody>\n    <tr>\n      <th>count</th>\n      <td>8972.000000</td>\n      <td>8972.000000</td>\n      <td>8972.000000</td>\n      <td>8972.000000</td>\n      <td>8972.000000</td>\n      <td>8972.000000</td>\n      <td>8972.000000</td>\n      <td>8972.000000</td>\n      <td>8972.000000</td>\n      <td>8972.000000</td>\n      <td>7033.000000</td>\n      <td>7033.000000</td>\n      <td>7042.000000</td>\n      <td>8972.000000</td>\n      <td>8972.000000</td>\n    </tr>\n    <tr>\n      <th>mean</th>\n      <td>102.227207</td>\n      <td>100.303021</td>\n      <td>74.546701</td>\n      <td>51.627396</td>\n      <td>74.449064</td>\n      <td>51.682902</td>\n      <td>51.328801</td>\n      <td>51.583705</td>\n      <td>2.789932</td>\n      <td>4.386784</td>\n      <td>1.074790</td>\n      <td>8.997725</td>\n      <td>9.139023</td>\n      <td>30.500111</td>\n      <td>2.766384</td>\n    </tr>\n    <tr>\n      <th>std</th>\n      <td>24.344379</td>\n      <td>24.167263</td>\n      <td>15.694197</td>\n      <td>18.535867</td>\n      <td>15.812367</td>\n      <td>18.728525</td>\n      <td>17.302492</td>\n      <td>17.209263</td>\n      <td>2.813103</td>\n      <td>3.971321</td>\n      <td>13.561507</td>\n      <td>6.197613</td>\n      <td>6.233615</td>\n      <td>21.580476</td>\n      <td>1.721831</td>\n    </tr>\n    <tr>\n      <th>min</th>\n      <td>0.900000</td>\n      <td>10.700000</td>\n      <td>10.000000</td>\n      <td>0.000000</td>\n      <td>10.000000</td>\n      <td>0.000000</td>\n      <td>0.000000</td>\n      <td>0.000000</td>\n      <td>1.000000</td>\n      <td>1.010000</td>\n      <td>-64.000000</td>\n      <td>1.000000</td>\n      <td>1.000000</td>\n      <td>0.000000</td>\n      <td>0.000000</td>\n    </tr>\n    <tr>\n      <th>25%</th>\n      <td>85.600000</td>\n      <td>83.000000</td>\n      <td>60.000000</td>\n      <td>40.000000</td>\n      <td>60.000000</td>\n      <td>40.000000</td>\n      <td>40.000000</td>\n      <td>40.000000</td>\n      <td>1.670000</td>\n      <td>2.350000</td>\n      <td>-5.000000</td>\n      <td>4.000000</td>\n      <td>4.000000</td>\n      <td>13.275000</td>\n      <td>1.000000</td>\n    </tr>\n    <tr>\n      <th>50%</th>\n      <td>103.000000</td>\n      <td>101.100000</td>\n      <td>80.000000</td>\n      <td>50.000000</td>\n      <td>80.000000</td>\n      <td>50.000000</td>\n      <td>50.000000</td>\n      <td>50.000000</td>\n      <td>2.150000</td>\n      <td>3.300000</td>\n      <td>1.000000</td>\n      <td>8.000000</td>\n      <td>8.000000</td>\n      <td>26.700000</td>\n      <td>3.000000</td>\n    </tr>\n    <tr>\n      <th>75%</th>\n      <td>118.400000</td>\n      <td>116.300000</td>\n      <td>90.000000</td>\n      <td>60.000000</td>\n      <td>90.000000</td>\n      <td>70.000000</td>\n      <td>60.000000</td>\n      <td>60.000000</td>\n      <td>2.900000</td>\n      <td>4.900000</td>\n      <td>7.000000</td>\n      <td>13.000000</td>\n      <td>13.000000</td>\n      <td>43.700000</td>\n      <td>4.000000</td>\n    </tr>\n    <tr>\n      <th>max</th>\n      <td>174.600000</td>\n      <td>181.400000</td>\n      <td>100.000000</td>\n      <td>100.000000</td>\n      <td>100.000000</td>\n      <td>100.000000</td>\n      <td>100.000000</td>\n      <td>100.000000</td>\n      <td>67.000000</td>\n      <td>67.000000</td>\n      <td>76.000000</td>\n      <td>36.000000</td>\n      <td>36.000000</td>\n      <td>139.100000</td>\n      <td>11.000000</td>\n    </tr>\n  </tbody>\n</table>\n</div>",
                        "text/plain": "         HomePower    AwayPower         H1.5         H2.5         A1.5  \\\ncount  8972.000000  8972.000000  8972.000000  8972.000000  8972.000000   \nmean    102.227207   100.303021    74.546701    51.627396    74.449064   \nstd      24.344379    24.167263    15.694197    18.535867    15.812367   \nmin       0.900000    10.700000    10.000000     0.000000    10.000000   \n25%      85.600000    83.000000    60.000000    40.000000    60.000000   \n50%     103.000000   101.100000    80.000000    50.000000    80.000000   \n75%     118.400000   116.300000    90.000000    60.000000    90.000000   \nmax     174.600000   181.400000   100.000000   100.000000   100.000000   \n\n              A2.5     HomeBTTS     AwayBTTS            1            2  \\\ncount  8972.000000  8972.000000  8972.000000  8972.000000  8972.000000   \nmean     51.682902    51.328801    51.583705     2.789932     4.386784   \nstd      18.728525    17.302492    17.209263     2.813103     3.971321   \nmin       0.000000     0.000000     0.000000     1.000000     1.010000   \n25%      40.000000    40.000000    40.000000     1.670000     2.350000   \n50%      50.000000    50.000000    50.000000     2.150000     3.300000   \n75%      70.000000    60.000000    60.000000     2.900000     4.900000   \nmax     100.000000   100.000000   100.000000    67.000000    67.000000   \n\n           Home GD  Home Position  Away Position    Powerdiff  Total Goals  \ncount  7033.000000    7033.000000    7042.000000  8972.000000  8972.000000  \nmean      1.074790       8.997725       9.139023    30.500111     2.766384  \nstd      13.561507       6.197613       6.233615    21.580476     1.721831  \nmin     -64.000000       1.000000       1.000000     0.000000     0.000000  \n25%      -5.000000       4.000000       4.000000    13.275000     1.000000  \n50%       1.000000       8.000000       8.000000    26.700000     3.000000  \n75%       7.000000      13.000000      13.000000    43.700000     4.000000  \nmax      76.000000      36.000000      36.000000   139.100000    11.000000  "
                    },
                    "metadata": {}
                }
            ],
            "execution_count": 6
        },
        {
            "cell_type": "markdown",
            "source": [
                "### Predictions"
            ],
            "metadata": {
                "azdata_cell_guid": "7fc362dd-5906-42a4-a753-913a40f97db7"
            }
        },
        {
            "cell_type": "code",
            "source": [
                "# Over 1.5 goals\n",
                "tdf = df[ (df['H1.5'] > 90) | (df['A1.5'] > 90) & (df['Powerdiff'] >= 30)].copy()\n",
                "\n",
                "tts = tdf[(tdf['Total Goals'] >= 2)].copy()\n",
                "out =  tdf[(tdf['Total Goals'] < 2)].copy()\n",
                "\n",
                "orig = tdf['Result'].count()\n",
                "pred = tts['Result'].count()\n",
                "\n",
                "outliers = orig - pred\n",
                "accuracy = (pred/orig) * 100\n",
                "\n",
                "print(f'{int(accuracy)}% accurate model with {pred} teams & {outliers} outliers')"
            ],
            "metadata": {
                "azdata_cell_guid": "adc4ddee-5081-4f4b-b352-ba972f6f31c9",
                "language": "python"
            },
            "outputs": [
                {
                    "output_type": "stream",
                    "name": "stdout",
                    "text": "100% accurate model with 1025 teams & 0 outliers\n"
                }
            ],
            "execution_count": 7
        },
        {
            "cell_type": "code",
            "source": [
                "# Home prediction based on top 3 teams\n",
                "pos_home = df[ (df['Powerdiff'] > 50)\n",
                "             & (df['Home Form'].str.count('W') > 4)\n",
                "             & (df['Home Position'] <= 3) ].copy()\n",
                " \n",
                "# Calculate accuracy \n",
                "h_ct = pos_home['Home Team'].count()\n",
                "h_win = pos_home[(pos_home['Result'] == '1')].copy()\n",
                "p_ct = h_win['Home Team'].count()\n",
                "model_acc = (p_ct/h_ct) * 100\n",
                "print(f'{int(model_acc)}% accurate model with {h_ct} teams')"
            ],
            "metadata": {
                "azdata_cell_guid": "c121e5b5-6f93-4eb3-b010-54390308afc0",
                "language": "python"
            },
            "outputs": [
                {
                    "output_type": "stream",
                    "name": "stdout",
                    "text": "100% accurate model with 63 teams\n"
                }
            ],
            "execution_count": 8
        },
        {
            "cell_type": "code",
            "source": [
                "anom = pos_home[(pos_home['Result'] != '1')].copy()\n",
                "anom "
            ],
            "metadata": {
                "azdata_cell_guid": "7438ca52-5431-45ad-88ef-d3375adfb865",
                "language": "python"
            },
            "outputs": [
                {
                    "output_type": "execute_result",
                    "execution_count": 9,
                    "data": {
                        "text/html": "<div>\n<style scoped>\n    .dataframe tbody tr th:only-of-type {\n        vertical-align: middle;\n    }\n\n    .dataframe tbody tr th {\n        vertical-align: top;\n    }\n\n    .dataframe thead th {\n        text-align: right;\n    }\n</style>\n<table border=\"1\" class=\"dataframe\">\n  <thead>\n    <tr style=\"text-align: right;\">\n      <th></th>\n      <th>Home Team</th>\n      <th>Away Team</th>\n      <th>League</th>\n      <th>Score</th>\n      <th>Result</th>\n      <th>HomePower</th>\n      <th>AwayPower</th>\n      <th>H1.5</th>\n      <th>H2.5</th>\n      <th>A1.5</th>\n      <th>...</th>\n      <th>Away Form</th>\n      <th>1</th>\n      <th>2</th>\n      <th>Home GD</th>\n      <th>\"AwayGD\"</th>\n      <th>Home Position</th>\n      <th>Away Position</th>\n      <th>Powerdiff</th>\n      <th>Match Date</th>\n      <th>Total Goals</th>\n    </tr>\n  </thead>\n  <tbody>\n  </tbody>\n</table>\n<p>0 rows × 24 columns</p>\n</div>",
                        "text/plain": "Empty DataFrame\nColumns: [Home Team, Away Team, League, Score, Result, HomePower, AwayPower, H1.5, H2.5, A1.5, A2.5, HomeBTTS, AwayBTTS, Home Form, Away Form, 1, 2, Home GD, \"AwayGD\", Home Position, Away Position, Powerdiff, Match Date, Total Goals]\nIndex: []\n\n[0 rows x 24 columns]"
                    },
                    "metadata": {}
                }
            ],
            "execution_count": 9
        }
    ]
}